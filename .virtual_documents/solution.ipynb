





# Import required liberaries/Moduls
import csv
import os

# Build a Class includes all the required methods
class EmployeeManager:
    # Head row of the csv file
    headList = ["Id" , "Name", "Position", "Salary", "Email"]
    # empty dictionary to retrive an process data
    emptyDic = {}


    # Load data from CSV into the empty dictionary
    def loadFromFile(self):
        self.emptyDic.clear()
        if os.path.isfile('Employees.csv') and os.path.getsize('Employees.csv') > 0:
            with open('Employees.csv', 'r', encoding='UTF8') as file:
                reader = csv.DictReader(file)
                for row in reader:
                    self.emptyDic[int(row["Id"])] = {"Id": int(row["Id"]),
                                                    "Name": row["Name"],
                                                    "Position": row["Position"],
                                                    "Salary": int(row["Salary"]),
                                                    "Email": row["Email"]
                                                    }
##########################################################################################      
   
    # method to save informations and updates after each change    
    def saveTofile(self):
            with open('Employees.csv', 'w', encoding='UTF8', newline='') as file:
                writer = csv.DictWriter(file, fieldnames=self.headList)
                writer.writeheader()
                writer.writerows(self.emptyDic.values())

############################################################################################               
    # Add Employee
        # Collect employee details: ID, Name, Position, Salary, and Email
        # Store them in memory using a dictionary
        # Save them to a CSV file for future use
    
    def AddEmployee (self, Id=None):
        #load the data from the csv into the dictionary
        self.loadFromFile() 

        # check if the input is not string and convert it into integer
        if Id is None:
            while True:
                Id = input("Enter Employee ID")
                if not Id.isdigit():
                    print("Invalid input! Please enter a valid integer.")
                    continue
                Id = int(Id)
                break

        # Additional step to search for the Id in the list and not to add it again (No repetition )
        if self.searchEmployees(Id):
            print("Employee already exist ! you cannot add")
            return
           
        name = input("Enter Employee Name").capitalize()
        position = input("Enter Employee Position").capitalize()

        # check if the input is not string and convert it into integer 
        while True:
            salary = input("Enter Employee Salary")
            if not salary.isdigit():
                print("Invalid input! Please enter a valid integer.")
                continue
            salary = int(salary)
            break
        # check if the email has '@' 
        while True:
            email = input("Enter Employee Email").lower()
            if "@" not in email:
                print("Invalid email! Please enter email includes '@'.")
                continue
            break

        # store the data into the dictionary 
        self.emptyDic[Id] = {"Id": Id,
                            "Name": name,
                            "Position": position,
                            "Salary": salary,
                            "Email": email}

        # save data into the csv file
        self.saveTofile()
        print("Employee Data added")
        

##########################################################################################      
    # View All Employees
        # List all employees in a readable format (use a loop)
        # Data should be loaded from memory
     
    def ViewEmployees (self):
        #load the data from the csv into the dictionary
        self.loadFromFile()
        # additional step to check if the csv has no data to be retrived
        if not self.emptyDic:
            print("List is empty")
        else:
            print ("Employees data is")
            # loop over the dictionary to view data
            for key , value in self.emptyDic.items():
                print(f"ID: {value['Id']} , Name: {value['Name']}, Position: {value['Position']} , Salary: {value['Salary']}, Email: {value['Email']}")
##########################################################################################       
    # Update Employee
        # Allow user to input the employee ID and update any of the fields (Name, Position, Salary, Email)
        # Fields left empty should not be changed
        # Save the updated data back to the CSV
        
    def UpdateEmployee(self):
        #load the data from the csv into the dictionary
        self.loadFromFile()

        # check if the input is not string and convert it into integer
        while True:
            Id = input("Enter Employee ID")
            if not Id.isdigit():
                print("Invalid input! Please enter a valid integer.")
                continue
            Id = int(Id)
            
            # Additional step to check if the employee Id is not in the list
            # and ask the user if he/she want to add a data for that employee
            if Id not in self.emptyDic:
                print("Id is not in the list ! Please try again")
                choice = input("Do you want to add a new employee with this ID? (y/n): ").strip().lower()
                if choice == 'y':
                    self.AddEmployee(Id)
                    return
                else:
                    continue
            break
            
        Name = input("Enter Employee new name or press enter to skip").capitalize()
        Position = input("Enter Employee new position or press enter to skip").capitalize()

        # check if the input is not string and convert it into integer 
        while True:
            Salary = input("Enter Employee new salary or type 0 to skip")
            if not Salary.isdigit():
                print("Invalid input! Please enter employee new salary or type 0 to skip")
                continue
            Salary = int(Salary)
            break

        # check if the email has '@' 
        while True:
            Email = input("Enter Employee new email or press enter to skip").lower()
            if Email == "":
                break
            if "@" not in Email:
                print("Invalid email! Please enter new email includes '@' or press enter to skip")
                continue
            break

        # store the old data into backup to retrive the data if the user don't want to update specific field
        beckupDict = self.emptyDic[Id]

        # check the user input => if blank store the old data, else store the new data
        if Name == "":
            Name = beckupDict["Name"]
        if Position == "":
            Position = beckupDict["Position"]
        if Salary == 0:
            Salary = beckupDict["Salary"]
        if Email == "":
            Email = beckupDict["Email"]

        # store the data into the dictionary 
        self.emptyDic[Id] = {
            "Id": Id,
            "Name": Name,
            "Position": Position,
            "Salary": Salary,
            "Email": Email
        }

        # save data into the csv file
        self.saveTofile()

##########################################################################################              
    # Search Employee
        # Search and display an employee’s details by their unique ID    
    def searchEmployees (self, Id):
         #load the data from the csv into the dictionary
        self.loadFromFile()
        return Id in self.emptyDic
##########################################################################################         
    # Delete Employee
        # Allow user to delete a specific employee by ID
        # Update the CSV file accordingly
        
    def deleteEmployee(self, Id):
         #load the data from the csv into the dictionary
        self.loadFromFile()
        if Id in self.emptyDic:
            del self.emptyDic[Id]
            print("Id deleted")
        else:
            print("Id is not in the list")
        # save data into the csv file
        self.saveTofile()


# create object from the class
emp = EmployeeManager()
# Greet the user and ask for the input option
print("Hello")
print_message = """
Here is the list of availabe choices:
'1' => Add Employee
'2' => View Employees
'3' => Update employees informations
'4' => Search for Employee
'5' => Delete an employee
'6' => Exit
"""

while True:
    print(print_message)
    mainMenu = input("Kindly enter your choice form Previous the list")
    # Check on the input is not char and go back again to choose an integer number
    if not mainMenu.isdigit():
        print("Invalid input! Please enter a valid integer.")
        continue
    
    user_input = int(mainMenu)
    # make sure that the input id from 1 to 6 only
    if not (1 <= user_input <= 6) :
        print("Invalid input! Please enter a number from 1 to 6.")
        continue

    # call AddEmployee method if the user input is 1
    if user_input == 1:
        emp.AddEmployee ()

    # call ViewEmployees method if the user input is 2
    elif user_input == 2:
        emp.ViewEmployees()

    # call UpdateEmployee method if the user input is 3
    elif user_input == 3:
        emp.UpdateEmployee ()

    # call searchEmployees method if the user input is 4
    elif user_input == 4:
        while True:
            Id = input("Enter Employee ID")
            if not Id.isdigit():
                print("Invalid input! Please enter a valid integer.")
                continue
            Id = int(Id)
            break
        if emp.searchEmployees(Id):
            print("There is an employee with the following data:")
            print(emp.emptyDic[Id])
        else:
            print("No Id found !")

    # call deleteEmployee method if the user input is 5
    elif user_input == 5:
        while True:
            Id = input("Enter Employee ID: ")
            if not Id.isdigit():
                print("Invalid input! Please enter a valid integer.")
                continue
            Id = int(Id)
            break
            emp.deleteEmployee(Id)

    # Exit the program if the user input is 6
    elif user_input == 6:
        print ("Goodbye !")
        break






